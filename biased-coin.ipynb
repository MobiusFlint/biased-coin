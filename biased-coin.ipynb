{
 "cells": [
  {
   "cell_type": "code",
   "execution_count": 18,
   "metadata": {
    "collapsed": false
   },
   "outputs": [
    {
     "name": "stdout",
     "output_type": "stream",
     "text": [
      "Probability of mystery coin flipping heads:  0.5889356892724533\n",
      "Observed proportion of heads:  0.5908\n",
      "Sample mean:  17.724\n",
      "Control mean:  15.008\n",
      "p-value:  4.89514088947e-155\n",
      "The p-value is less than  0.01 , therefore we can say with  99 % confidence that our mystery coin is unfair.\n"
     ]
    }
   ],
   "source": [
    "import random\n",
    "import numpy as np\n",
    "import scipy.stats as stats\n",
    "\n",
    "## Set confidence interval\n",
    "CI = 0.99\n",
    "\n",
    "## Flip 1000 coins 30 times (or 1000 trials of 30 flips of one coin). \n",
    "## Store count of heads for each coin trial in list called heads \n",
    "def control_flips():\n",
    "    control_heads = []\n",
    "    for i in range(1000):\n",
    "        coin = []   \n",
    "        for j in range(30):\n",
    "            coin.append(random.choice(['head', 'tail']))  \n",
    "        control_heads.append(coin.count('head'))\n",
    "    pop_mean = np.mean(control_heads)\n",
    "    print('Control mean: ', pop_mean)\n",
    "    return(pop_mean)\n",
    "\n",
    "## Decide if coin is unfair. If so, set weight\n",
    "fair = random.choice(['yes', 'no'])\n",
    "if fair == 'yes':\n",
    "    prob_heads = 0.5\n",
    "else:\n",
    "    prob_heads = random.choice([0.5 + random.random()/10, 0.5 - random.random()/10])\n",
    "print('Probability of mystery coin flipping heads: ', prob_heads)\n",
    "\n",
    "## Flip mystery coin 30 times * 1000 trials\n",
    "def mystery_coin_flips():\n",
    "    sample_heads = []\n",
    "    for k in range(1000):\n",
    "        mystery_coin = []\n",
    "        for m in range(30):\n",
    "            flip = random.random()\n",
    "            mystery_coin.append('head' if flip < prob_heads else 'tail')\n",
    "        sample_heads.append(mystery_coin.count('head'))\n",
    "    print('Observed proportion of heads: ', 1-((30000-sum(sample_heads))/30000))\n",
    "    print('Sample mean: ', np.mean(sample_heads))\n",
    "    return(sample_heads)\n",
    "\n",
    "## Test for significance using a handy-dandy function, and reject/accept null hypothesis based on CI\n",
    "def test_significance():\n",
    "    result = stats.ttest_1samp(a=mystery_coin_flips(), popmean=control_flips())\n",
    "    pval = result[1]\n",
    "    print('p-value: ', pval)\n",
    "    if pval < 0.01:\n",
    "        print('The p-value is less than ', round(1-CI,2), ', therefore we can say with ',\n",
    "              round(CI*100), '% confidence that our mystery coin is unfair.')\n",
    "    else:\n",
    "        print('The p-value is greater than ', round(1-CI,2), ', therefore we can say with ',\n",
    "              round(CI*100), '% confidence that our mystery coin is fair.')\n",
    "\n",
    "test_significance()"
   ]
  }
 ],
 "metadata": {
  "kernelspec": {
   "display_name": "Python 3",
   "language": "python",
   "name": "python3"
  },
  "language_info": {
   "codemirror_mode": {
    "name": "ipython",
    "version": 3
   },
   "file_extension": ".py",
   "mimetype": "text/x-python",
   "name": "python",
   "nbconvert_exporter": "python",
   "pygments_lexer": "ipython3",
   "version": "3.5.1"
  }
 },
 "nbformat": 4,
 "nbformat_minor": 0
}
